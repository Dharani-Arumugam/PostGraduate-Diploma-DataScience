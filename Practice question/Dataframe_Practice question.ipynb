{
 "cells": [
  {
   "cell_type": "markdown",
   "metadata": {},
   "source": [
    "### Selecting dataframe columns\n",
    "Write a program to select all columns of a dataframe except the ones specified.\n",
    "The input will contain a list of columns that you should skip.\n",
    "You should print the first five rows of the dataframe as output where the columns are alphabetically sorted."
   ]
  },
  {
   "cell_type": "code",
   "execution_count": 1,
   "metadata": {},
   "outputs": [],
   "source": [
    "import pandas as pd\n",
    "import ast,sys\n",
    "pd.set_option('display.max_columns', 500)\n",
    "df=pd.read_csv(\"https://media-doselect.s3.amazonaws.com/generic/X0kvr3wEYXRzONE5W37xWWYYA/test.csv\")"
   ]
  },
  {
   "cell_type": "code",
   "execution_count": 2,
   "metadata": {},
   "outputs": [
    {
     "name": "stdout",
     "output_type": "stream",
     "text": [
      "    Age Cabin     Fare  Parch  SibSp   Ticket\n",
      "0  34.5   NaN   7.8292      0      0   330911\n",
      "1  47.0   NaN   7.0000      0      1   363272\n",
      "2  62.0   NaN   9.6875      0      0   240276\n",
      "3  27.0   NaN   8.6625      0      0   315154\n",
      "4  22.0   NaN  12.2875      1      1  3101298\n"
     ]
    }
   ],
   "source": [
    "to_omit = ['PassengerId', 'Pclass', 'Name', 'Sex','Embarked']\n",
    "#write your code here\n",
    "df = df[df.columns[~df.columns.isin(to_omit)]]\n",
    "print(df.sort_index(axis =1).head(5))"
   ]
  },
  {
   "cell_type": "markdown",
   "metadata": {},
   "source": [
    "### Two series\n",
    "Given two pandas series, find the position of elements in series2 in series1.\n",
    "You can assume that all elements in series2 will be present in series1.\n",
    "The input will contain two lines with series1 and series2 respectively.\n",
    "The output should be a list of indexes indicating elements of series2 in series 1.\n",
    "Note: In the output list, the indexes should be in ascending order.\n",
    "- Sample Input: [1,2,3,4,5,6,7] [1,3,7]\n",
    "- Sample Output: [0,2,6]"
   ]
  },
  {
   "cell_type": "code",
   "execution_count": 3,
   "metadata": {},
   "outputs": [
    {
     "name": "stdout",
     "output_type": "stream",
     "text": [
      "[0, 2, 6]\n"
     ]
    }
   ],
   "source": [
    "import ast,sys\n",
    "import pandas as pd\n",
    "input_list =[ [1,2,3,4,5,6,7], [1,3,7]]\n",
    "series1=pd.Series(input_list[0])\n",
    "series2=pd.Series(input_list[1])\n",
    "out_list= [pd.Index(series1).get_loc(i) for i in series2]\n",
    "print(list(map(int,out_list)))#do not alter this step, list must be int type for evaluation purposes"
   ]
  },
  {
   "cell_type": "markdown",
   "metadata": {},
   "source": [
    "### Cleaning columns\n",
    "For the given dataframe, you have to clean the \"Installs\" column and print its correlation with other numeric columns of the dataframe.(print df.corr())\n",
    "You have to do the following:\n",
    "1. Remove characters like ',' from the number of installs.\n",
    "2. Delete rows where the Installs column has irrelevant strings like 'Free'\n",
    "3. Convert the column to int type\n",
    "Do not clean any column other than \"Installs\"."
   ]
  },
  {
   "cell_type": "code",
   "execution_count": 4,
   "metadata": {},
   "outputs": [
    {
     "name": "stdout",
     "output_type": "stream",
     "text": [
      "            Rating  Installs\n",
      "Rating    1.000000  0.051355\n",
      "Installs  0.051355  1.000000\n"
     ]
    }
   ],
   "source": [
    "import pandas as pd \n",
    "df=pd.read_csv(\"https://media-doselect.s3.amazonaws.com/generic/8NMooe4G0ENEe8z9q5ZvaZA7/googleplaystore.csv\")\n",
    "#add your cleaning code here\n",
    "df['Installs'] = df['Installs'].apply(lambda x: x.replace(',',''))\n",
    "df['Installs'] = df['Installs'].apply(lambda x: x.replace('+',''))\n",
    "df= df[df['Installs'] != 'Free']\n",
    "df['Installs'] = df['Installs'].astype('int')\n",
    "print(df.corr())"
   ]
  }
 ],
 "metadata": {
  "kernelspec": {
   "display_name": "Python 3",
   "language": "python",
   "name": "python3"
  },
  "language_info": {
   "codemirror_mode": {
    "name": "ipython",
    "version": 3
   },
   "file_extension": ".py",
   "mimetype": "text/x-python",
   "name": "python",
   "nbconvert_exporter": "python",
   "pygments_lexer": "ipython3",
   "version": "3.8.3"
  }
 },
 "nbformat": 4,
 "nbformat_minor": 4
}
