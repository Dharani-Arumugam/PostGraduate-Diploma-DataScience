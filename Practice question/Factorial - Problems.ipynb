{
 "cells": [
  {
   "cell_type": "markdown",
   "metadata": {},
   "source": [
    "### *Factorial Problems*"
   ]
  },
  {
   "cell_type": "markdown",
   "metadata": {},
   "source": [
    "#### *Recursion Factorial*\n",
    "\n",
    "*Earlier you found factorial using loops. Here you have to apply the theory of recursive functions to find the factorial of a positive integer.*"
   ]
  },
  {
   "cell_type": "code",
   "execution_count": 1,
   "metadata": {},
   "outputs": [
    {
     "name": "stdout",
     "output_type": "stream",
     "text": [
      "120\n"
     ]
    }
   ],
   "source": [
    "#take input here\n",
    "num=5\n",
    "\n",
    "#write the recurssive function to find the factorial of num\n",
    "def factorial(n):\n",
    "    #find and RETURN factorial of num\n",
    "    if n==0:\n",
    "        return 1 \n",
    "    else:\n",
    "        fact = n* factorial(n-1) \n",
    "    return fact\n",
    "    \n",
    "\n",
    "#function ends here\n",
    "\n",
    "print(factorial(num))\n"
   ]
  },
  {
   "cell_type": "markdown",
   "metadata": {},
   "source": [
    "#### *Print numbers from -n to +n*\n",
    "*You’re given a positive number ‘n’ as an input. Write a recursive program to print all the numbers from -n to +n (including 0)*"
   ]
  },
  {
   "cell_type": "code",
   "execution_count": 2,
   "metadata": {},
   "outputs": [
    {
     "name": "stdout",
     "output_type": "stream",
     "text": [
      "-5\n",
      "-4\n",
      "-3\n",
      "-2\n",
      "-1\n",
      "0\n",
      "1\n",
      "2\n",
      "3\n",
      "4\n",
      "5\n"
     ]
    }
   ],
   "source": [
    "# Read the input\n",
    "n = 5\n",
    "for i in range(-n,n+1):\n",
    "    print(i)"
   ]
  },
  {
   "cell_type": "markdown",
   "metadata": {},
   "source": [
    "### *Weird Function*\n",
    "\n",
    "*In data science, quite often you need to implement research papers and write code according to what's present in those papers. Research papers have a lot of maths involved and you need to implement the maths in code. In this exercise, you're required to implement some maths in code. The problem is as follows:*\n",
    "\n",
    "*For fixed integers a, b, c, define a weird function F(n) as follows: \n",
    "F(n) = n - c for all n > b \n",
    "F(n) = F(a + F(a + F(a + F(a + n)))) for all n ≤ b.*\n",
    " \n",
    "*Also, define S(a, b, c) = ∑F(n) where n takes the values 0 till b [in other words, S(a, b, c) = F(0) + F(1) + F(2) + .... F(b-1) + F(b)].*\n",
    "\n",
    "*The input will be the value of a, b and c. The output should be S(a, b, c). You can define the functions in your own customized way with no restrictions on the number of parameters. For example, you can define the function S which can take additional parameters than a, b and c. Just make sure the code behaves as per the maths.*\n",
    " \n",
    "*For example, if a = 20, b = 100 and c = 15, then F(0) = 195 and F(2000) = 1985. \n",
    "Therefore, S(20, 100, 15) = 14245*\n",
    "\n"
   ]
  },
  {
   "cell_type": "code",
   "execution_count": 3,
   "metadata": {},
   "outputs": [
    {
     "name": "stdout",
     "output_type": "stream",
     "text": [
      "14245\n"
     ]
    }
   ],
   "source": [
    "input_list = [20,100,15]\n",
    "\n",
    "a = int(input_list[0])\n",
    "b = int(input_list[1])\n",
    "c = int(input_list[2])\n",
    "\n",
    "# write code here\n",
    "\n",
    "def F(a,b,c,n):\n",
    "    if(n > b):\n",
    "        return n-c\n",
    "    else:\n",
    "        return F(a,b,c,a+ F(a,b,c,a+ F(a,b,c,a+ F(a,b,c,a+ n))))\n",
    "\n",
    "def large_sum(a,b,c):\n",
    "    final = 0\n",
    "    for n in range(0,b+1):\n",
    "        final += F(a,b,c,n)\n",
    "    return final\n",
    "# store the result in the following variable\n",
    "result = large_sum(a, b, c)\n",
    "\n",
    "# print result -- do not change the following code\n",
    "print(result)"
   ]
  },
  {
   "cell_type": "markdown",
   "metadata": {},
   "source": [
    "### *Recursive Pattern*\n",
    "\n",
    "*Given a positive integer 'n' and another positive integer 'k' (<n),  print the following pattern using recursion.*\n",
    "\n",
    "*Example:\n",
    "Input 1: n = 12, k = 5*\n",
    "*Output 2: 12, 7, 2, -3, 2, 7, 12*"
   ]
  },
  {
   "cell_type": "code",
   "execution_count": 4,
   "metadata": {},
   "outputs": [
    {
     "name": "stdout",
     "output_type": "stream",
     "text": [
      "12, 7, 2, -3, 2, 7, 12\n"
     ]
    }
   ],
   "source": [
    "# Reading the inputs\n",
    "n = 12\n",
    "k = 5\n",
    "\n",
    "# Function\n",
    "l = []\n",
    "l.append(n)\n",
    "def pattern(n,k):\n",
    "    l.append(n)\n",
    "    if(n==l[0]):\n",
    "        return\n",
    "    if n<=0:\n",
    "        pattern(n+k,-k)\n",
    "    else:\n",
    "        pattern(n-k,k)\n",
    "    return l\n",
    "lis = pattern(n-k,k)\n",
    "str1 = ', '.join([str(a) for a in lis])\n",
    "print(str1)"
   ]
  }
 ],
 "metadata": {
  "kernelspec": {
   "display_name": "Python 3",
   "language": "python",
   "name": "python3"
  },
  "language_info": {
   "codemirror_mode": {
    "name": "ipython",
    "version": 3
   },
   "file_extension": ".py",
   "mimetype": "text/x-python",
   "name": "python",
   "nbconvert_exporter": "python",
   "pygments_lexer": "ipython3",
   "version": "3.7.6"
  }
 },
 "nbformat": 4,
 "nbformat_minor": 4
}
