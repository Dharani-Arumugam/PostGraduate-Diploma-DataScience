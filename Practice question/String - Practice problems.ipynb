{
 "cells": [
  {
   "cell_type": "markdown",
   "metadata": {},
   "source": [
    "### *Question 1 : Find Extra Character*\n",
    "*Given two strings, one of the strings will contain an extra character. Find the extra character. The number of all the other characters in both the strings will be the same. Check the sample input/output for more clarification.\n",
    "The code will be case sensitive.*"
   ]
  },
  {
   "cell_type": "code",
   "execution_count": 2,
   "metadata": {},
   "outputs": [
    {
     "name": "stdout",
     "output_type": "stream",
     "text": [
      "e\n"
     ]
    }
   ],
   "source": [
    "#take input on your own\n",
    "s1 = 'abcd'\n",
    "s2 = 'cedab' \n",
    "res =0\n",
    "for i in range(0,len(s1)):\n",
    "    res = res ^ (ord)(s1[i]) \n",
    "for j in range(0,len(s2)):\n",
    "    res = res ^ (ord)(s2[i]) \n",
    "print((chr)(res))"
   ]
  },
  {
   "cell_type": "markdown",
   "metadata": {},
   "source": [
    "### *Question 2 : Integer or String*\n",
    "*You have been using ast.literal_eval() to take input in a suitable format. Have you thought of how does it distinguish between different data types and data structures? We will solve a similar but smaller problem here. You will be given a string as input. You just have to determine if the string can be an integer or no?\n",
    "This is also encountered a lot in Data Science. Upon taking a lot of data, sometimes integer values are treated as a string, and due to that a lot of functionalities of integer data which you will learn ahead are rendered useless.*\n"
   ]
  },
  {
   "cell_type": "code",
   "execution_count": 3,
   "metadata": {},
   "outputs": [
    {
     "name": "stdout",
     "output_type": "stream",
     "text": [
      "STR\n"
     ]
    }
   ],
   "source": [
    "#inut has been taken for you\n",
    "in_str= '43a'\n",
    "in_str = in_str.strip()\n",
    "def chk_int(s) :\n",
    "    if s[0] == '-':\n",
    "        s = s[1:]\n",
    "    for i in range(len(s)) :\n",
    "        if s[i].isdigit() != True : \n",
    "            return False\n",
    "    return True\n",
    "\n",
    "\n",
    "if chk_int(in_str): \n",
    "    print(\"INT\") \n",
    "else : \n",
    "    print(\"STR\") "
   ]
  }
 ],
 "metadata": {
  "kernelspec": {
   "display_name": "Python 3",
   "language": "python",
   "name": "python3"
  },
  "language_info": {
   "codemirror_mode": {
    "name": "ipython",
    "version": 3
   },
   "file_extension": ".py",
   "mimetype": "text/x-python",
   "name": "python",
   "nbconvert_exporter": "python",
   "pygments_lexer": "ipython3",
   "version": "3.7.6"
  }
 },
 "nbformat": 4,
 "nbformat_minor": 4
}
