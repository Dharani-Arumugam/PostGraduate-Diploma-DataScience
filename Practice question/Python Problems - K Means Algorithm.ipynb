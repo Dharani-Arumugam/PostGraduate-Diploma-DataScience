{
 "cells": [
  {
   "cell_type": "markdown",
   "metadata": {},
   "source": [
    "## 1. Prime Numbers\n",
    "Given a positive integer n, your task is to print prime numbers up to the number n, starting from 2.\n",
    "Note: n>=2\n",
    "    - Sample Input: 5\n",
    "    - Sample Output:\n",
    "2\n",
    "3\n",
    "5"
   ]
  },
  {
   "cell_type": "code",
   "execution_count": 3,
   "metadata": {},
   "outputs": [
    {
     "name": "stdout",
     "output_type": "stream",
     "text": [
      "8\n",
      "2\n",
      "3\n",
      "5\n",
      "7\n"
     ]
    }
   ],
   "source": [
    "n = int(input())\n",
    "\n",
    "def check_Prime(num):\n",
    "    if num <= 1:\n",
    "        return False\n",
    "    for i in range(2, num):\n",
    "        if num%i==0:\n",
    "            return False \n",
    "    return True \n",
    "\n",
    "def printPrime(n):\n",
    "    for i in range(2, n+1):\n",
    "        if check_Prime(i):\n",
    "            print(i)\n",
    "\n",
    "printPrime(n)"
   ]
  },
  {
   "cell_type": "code",
   "execution_count": 7,
   "metadata": {},
   "outputs": [
    {
     "name": "stdout",
     "output_type": "stream",
     "text": [
      "8\n",
      "2\n",
      "3\n",
      "5\n",
      "7\n"
     ]
    }
   ],
   "source": [
    "# More Pythonic way of print Prime's\n",
    "n = int(input())\n",
    "\n",
    "for z in ([x for x in range(2, n+1) if all(x%y != 0 for y in range(2, x))]):\n",
    "    print(z)"
   ]
  },
  {
   "cell_type": "markdown",
   "metadata": {},
   "source": [
    "## 2. Substring in Alphabetical order\n",
    "- The Python program is supposed to find the longest consecutive sub-string in alphabetical order in a given string. Note that the order determination is case insensitive, i.e. the string \"Ab\" is considered to be in alphabetical order. You can assume that the input will not have string where the number of possible consecutive sub-strings in alphabetical order is 0. i.e. the input will not have a string like \"zxec\"."
   ]
  },
  {
   "cell_type": "code",
   "execution_count": 10,
   "metadata": {},
   "outputs": [
    {
     "name": "stdout",
     "output_type": "stream",
     "text": [
      "\n",
      "e\n",
      "l\n",
      "l\n",
      "ello\n"
     ]
    }
   ],
   "source": [
    "string = \"Hello\"\n",
    "\n",
    "prevChar = \"\"\n",
    "curr_longest = \"\"\n",
    "longest = \"\"\n",
    "\n",
    "for char in string:\n",
    "    if prevChar.lower() <= char.lower():\n",
    "        print(prevChar)\n",
    "        curr_longest += char \n",
    "        if len(curr_longest) > len(longest):\n",
    "            longest = curr_longest \n",
    "    else:\n",
    "        curr_longest = char\n",
    "    prevChar = char\n",
    "print( longest )"
   ]
  },
  {
   "cell_type": "markdown",
   "metadata": {},
   "source": [
    "## 3.Reverse Pyramid\n",
    "- Print an n level reverse pyramid as follows where n is a positive integer taken as input. Each triangle will be made out of “*” symbols and the spaces will be filled by \"#\" symbols for each row. "
   ]
  },
  {
   "cell_type": "code",
   "execution_count": 22,
   "metadata": {},
   "outputs": [
    {
     "name": "stdout",
     "output_type": "stream",
     "text": [
      "*********\n",
      "#*******#\n",
      "##*****##\n",
      "###***###\n",
      "####*####\n"
     ]
    }
   ],
   "source": [
    "n = 5\n",
    "\n",
    "def rev_pyramid(n):\n",
    "    k = (n*2) -1 \n",
    "    for i in range(n):\n",
    "        print('#'*i,end='')\n",
    "        print('*'*k,end='')\n",
    "        print('#'*i,end='')\n",
    "        k = k-2\n",
    "        print()\n",
    "rev_pyramid(n)\n",
    "    "
   ]
  },
  {
   "cell_type": "markdown",
   "metadata": {},
   "source": [
    "## 4.Printing A Pyramid\n",
    "- Print an n level pyramid as follows where n is a positive integer taken as input. Each triangle will be made out of “*” symbols and the spaces will be filled by \"#\" symbols for each row"
   ]
  },
  {
   "cell_type": "code",
   "execution_count": 24,
   "metadata": {},
   "outputs": [
    {
     "name": "stdout",
     "output_type": "stream",
     "text": [
      "####*####\n",
      "###***###\n",
      "##*****##\n",
      "#*******#\n",
      "*********\n"
     ]
    }
   ],
   "source": [
    "n = 5\n",
    "\n",
    "def print_pyramid(n):\n",
    "    k = 1 \n",
    "    for i in range(n):\n",
    "        print('#'*(n-i-1), end='')\n",
    "        print('*'*k, end='')\n",
    "        print('#'*(n-i-1), end='')\n",
    "        k = k+2 \n",
    "        print() \n",
    "print_pyramid(n)"
   ]
  },
  {
   "cell_type": "markdown",
   "metadata": {},
   "source": [
    "## 5. Local Minima\n",
    "- Given a list, your job is to find values which are surrounded by greater values on both sides. Such values are called local minima.\n",
    "\n",
    "- For example, the number '1' (present at index 1) is a local minimum in the given series: [2,1,2]\n",
    "\n",
    "- Note: Do not consider the first and last element of the list as local minima. A point is local minima if the two elements surrounding it are greater than the number. For example, there is not minim in this list: [1,2,2,2,1].\n",
    "\n",
    "- Input format: The input will be a list of numbers.\n",
    "- Output Format: The output should be a list of indices of the local minima stored in increasing order.\n"
   ]
  },
  {
   "cell_type": "code",
   "execution_count": 26,
   "metadata": {},
   "outputs": [
    {
     "name": "stdout",
     "output_type": "stream",
     "text": [
      "[1, 4, 7]\n"
     ]
    }
   ],
   "source": [
    "import ast,sys\n",
    "import numpy as np\n",
    "input_list =[2,1,3,4,1,5,6,1,7]\n",
    "indices_list = []\n",
    "for i in range (1, len(input_list)-1):\n",
    "    if (input_list[i-1]>input_list[i] and input_list[i] <input_list[i+1]):\n",
    "        indices_list.append(i)\n",
    "minimas=indices_list\n",
    "minimas=[int(x) for x in minimas] \n",
    "print(minimas)"
   ]
  }
 ],
 "metadata": {
  "kernelspec": {
   "display_name": "Python 3",
   "language": "python",
   "name": "python3"
  },
  "language_info": {
   "codemirror_mode": {
    "name": "ipython",
    "version": 3
   },
   "file_extension": ".py",
   "mimetype": "text/x-python",
   "name": "python",
   "nbconvert_exporter": "python",
   "pygments_lexer": "ipython3",
   "version": "3.8.3"
  }
 },
 "nbformat": 4,
 "nbformat_minor": 4
}
