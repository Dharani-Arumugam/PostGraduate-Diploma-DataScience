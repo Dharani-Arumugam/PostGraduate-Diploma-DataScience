{
 "cells": [
  {
   "cell_type": "markdown",
   "metadata": {},
   "source": [
    "### *Question 1 : Clean Numbers*\n",
    "*While extracting data from different sources, often numeric values come in string format and with commas like 1,000 or 23,321 and also sometimes with spaces in start and beginning of the string. For simplicity, we will consider only integer values imbedded with commas. You will take the input and print the cleaned integer without commas and spaces.*"
   ]
  },
  {
   "cell_type": "code",
   "execution_count": 1,
   "metadata": {},
   "outputs": [
    {
     "name": "stdout",
     "output_type": "stream",
     "text": [
      "43567\n"
     ]
    }
   ],
   "source": [
    "#input has been take  for you\n",
    "value=' 43,567'\n",
    "\n",
    "#start writing your code from here\n",
    "\n",
    "value = value.strip()\n",
    "value = value.replace(',','')\n",
    "\n",
    "print(value)\n"
   ]
  },
  {
   "cell_type": "markdown",
   "metadata": {},
   "source": [
    "### *Question 2 : Secret Message*\n",
    "*You write all your passwords in a diary so that you don't forget them. But clearly this is too risky, so you came up with a simple plan, you will simply write it by shifting all the alphabets by a certain step. For eg: if you decide your step to be 3, then 'a' will become 'd', and 'k' will become 'n' and so for all alphabets. The last alphabets will simply circle back to 'a'. In this case, 'y' will become 'b' and so on. Now you just have to remember the step size, can then you can check the password anytime you want. You decided to write code to do this, now that you have learned coding in python. Your code will take in the step size and what is written in the diary and give out the real password.*"
   ]
  },
  {
   "cell_type": "code",
   "execution_count": 2,
   "metadata": {},
   "outputs": [
    {
     "name": "stdout",
     "output_type": "stream",
     "text": [
      "utgtgt\n"
     ]
    }
   ],
   "source": [
    "#take input on your own\n",
    "import ast \n",
    "\n",
    "text = 'banana'\n",
    "step = 7\n",
    "\n",
    "\n",
    "#start writing your code from here\n",
    "def encrypt(text,step): \n",
    "    result = \"\" \n",
    "    for i in range(len(text)): \n",
    "        char = text[i] \n",
    "        if (char.isupper()): \n",
    "            result += chr((ord(char) - step -65) % 26 + 65) \n",
    "            \n",
    "        else: \n",
    "            result += chr((ord(char) - step - 97) % 26 + 97) \n",
    "  \n",
    "    return result \n",
    "\n",
    "print(encrypt(text, step))"
   ]
  },
  {
   "cell_type": "markdown",
   "metadata": {},
   "source": [
    "### *Question 3 : Weird Sum*\n",
    "*Write a program that computes the value of n+nn+nnn+nnnn+... nn...n ntimes with a given number as the value of n.*\n",
    "\n",
    "*For example, if n=3 , then you have to find the value of 3+33+333*\n",
    "\n",
    "*if n=10, then you have to find the value of 10 + 1010 + 101010 + 10101010 + 1010101010 + 101010101010 + 10101010101010 + 1010101010101010 +101010101010101010+ 10101010101010101010*\n",
    "\n"
   ]
  },
  {
   "cell_type": "code",
   "execution_count": 4,
   "metadata": {},
   "outputs": [
    {
     "name": "stdout",
     "output_type": "stream",
     "text": [
      "369\n"
     ]
    }
   ],
   "source": [
    "n=\"3\"\n",
    "n_int = 3\n",
    "\n",
    "total = 0\n",
    "#start writing your code here\n",
    "for i in range(1,n_int+1):\n",
    "    total = total + int(n*i)\n",
    "\n",
    "print(total)"
   ]
  }
 ],
 "metadata": {
  "kernelspec": {
   "display_name": "Python 3",
   "language": "python",
   "name": "python3"
  },
  "language_info": {
   "codemirror_mode": {
    "name": "ipython",
    "version": 3
   },
   "file_extension": ".py",
   "mimetype": "text/x-python",
   "name": "python",
   "nbconvert_exporter": "python",
   "pygments_lexer": "ipython3",
   "version": "3.7.6"
  }
 },
 "nbformat": 4,
 "nbformat_minor": 4
}
