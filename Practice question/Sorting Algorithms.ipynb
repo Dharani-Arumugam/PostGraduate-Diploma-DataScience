{
 "cells": [
  {
   "cell_type": "markdown",
   "metadata": {},
   "source": [
    "### *Insertion Sort - Algorithm*"
   ]
  },
  {
   "cell_type": "code",
   "execution_count": 2,
   "metadata": {},
   "outputs": [
    {
     "name": "stdout",
     "output_type": "stream",
     "text": [
      "[1, 2, 3, 5, 7, 9]\n"
     ]
    }
   ],
   "source": [
    "data = [5,2,1,3,9,7]\n",
    "\n",
    "def insertion_sort(data):\n",
    "    for i in range(1, len(data)):\n",
    "        k = data[i]\n",
    "        j = i-1\n",
    "        while(data[j]>k and j>=0):\n",
    "            data[j+1] = data[j]\n",
    "            j = j-1\n",
    "        data[j+1] = k\n",
    "    print(data) \n",
    "insertion_sort(data)"
   ]
  },
  {
   "cell_type": "markdown",
   "metadata": {},
   "source": [
    "### *Selection Sort - Algorithm*"
   ]
  },
  {
   "cell_type": "code",
   "execution_count": 11,
   "metadata": {},
   "outputs": [
    {
     "data": {
      "text/plain": [
       "[11, 12, 22, 25, 64]"
      ]
     },
     "execution_count": 11,
     "metadata": {},
     "output_type": "execute_result"
    }
   ],
   "source": [
    "data = [64, 25, 12, 22, 11] \n",
    "  \n",
    "def selection_sort(data):\n",
    "    for i in range(0, len(data)):\n",
    "        min_idx  = i\n",
    "        for j in range(i+1, len(data)):\n",
    "            if data[min_idx] > data[j]:\n",
    "                min_idx = j \n",
    "        data[i] , data[min_idx]  = data[min_idx], data[i]\n",
    "    return data \n",
    "selection_sort(data)"
   ]
  }
 ],
 "metadata": {
  "kernelspec": {
   "display_name": "Python 3",
   "language": "python",
   "name": "python3"
  },
  "language_info": {
   "codemirror_mode": {
    "name": "ipython",
    "version": 3
   },
   "file_extension": ".py",
   "mimetype": "text/x-python",
   "name": "python",
   "nbconvert_exporter": "python",
   "pygments_lexer": "ipython3",
   "version": "3.7.6"
  }
 },
 "nbformat": 4,
 "nbformat_minor": 4
}
