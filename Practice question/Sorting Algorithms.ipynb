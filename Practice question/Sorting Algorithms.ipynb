{
 "cells": [
  {
   "cell_type": "markdown",
   "metadata": {},
   "source": [
    "### *Insertion Sort - Algorithm*"
   ]
  },
  {
   "cell_type": "code",
   "execution_count": 2,
   "metadata": {},
   "outputs": [
    {
     "name": "stdout",
     "output_type": "stream",
     "text": [
      "[1, 2, 3, 5, 7, 9]\n"
     ]
    }
   ],
   "source": [
    "data = [5,2,1,3,9,7]\n",
    "\n",
    "def insertion_sort(data):\n",
    "    for i in range(1, len(data)):\n",
    "        k = data[i]\n",
    "        j = i-1\n",
    "        while(data[j]>k and j>=0):\n",
    "            data[j+1] = data[j]\n",
    "            j = j-1\n",
    "        data[j+1] = k\n",
    "    print(data) \n",
    "insertion_sort(data)"
   ]
  },
  {
   "cell_type": "markdown",
   "metadata": {},
   "source": [
    "### *Selection Sort - Algorithm*"
   ]
  },
  {
   "cell_type": "code",
   "execution_count": 11,
   "metadata": {},
   "outputs": [
    {
     "data": {
      "text/plain": [
       "[11, 12, 22, 25, 64]"
      ]
     },
     "execution_count": 11,
     "metadata": {},
     "output_type": "execute_result"
    }
   ],
   "source": [
    "data = [64, 25, 12, 22, 11] \n",
    "  \n",
    "def selection_sort(data):\n",
    "    for i in range(0, len(data)):\n",
    "        min_idx  = i\n",
    "        for j in range(i+1, len(data)):\n",
    "            if data[min_idx] > data[j]:\n",
    "                min_idx = j \n",
    "        data[i] , data[min_idx]  = data[min_idx], data[i]\n",
    "    return data \n",
    "selection_sort(data)"
   ]
  },
  {
   "cell_type": "markdown",
   "metadata": {},
   "source": [
    "### *Using the Built-in Sort Function*\n",
    "*Sort a list of strings according to their length, with the smallest string appearing first.\n",
    "Hint: Use the appropriate ‘key’ in the sorted() function. If two strings are of the same length then their order — as in the original string — should be preserved.*\n",
    "\n",
    "*Example:\n",
    "Input 1:\n",
    "`[‘I’, ‘love’, ‘to’, ‘code’, ‘in’, ‘Python’]`\n",
    "Output 1:\n",
    "`[‘I’, ‘to’, ‘in’, ‘love’, ‘code’, ‘Python’]`*\n"
   ]
  },
  {
   "cell_type": "code",
   "execution_count": 2,
   "metadata": {},
   "outputs": [
    {
     "name": "stdout",
     "output_type": "stream",
     "text": [
      "['I', 'to', 'in', 'love', 'code', 'Python']\n"
     ]
    }
   ],
   "source": [
    "input_list = ['I', 'love', 'to', 'code', 'in', 'Python']\n",
    "\n",
    "# Write your code here\n",
    "\n",
    "print(sorted(input_list, key=lambda i: len(i) ))"
   ]
  },
  {
   "cell_type": "markdown",
   "metadata": {},
   "source": [
    "### *Custom Sort*\n",
    "*Sort a list of integers basis the remainder they leave when divided by 5 in an ascending order, i.e. the number that leaves a lower remainder when divided by 5 should come before the number which leaves a higher remainder.*\n",
    "\n",
    "*Hint: Use the appropriate ‘key’ in the sorted() function. If two integers leave the same remainder then their order — as in the original list — should be preserved.*\n",
    "\n",
    "*Examples:\n",
    "Input 1:*\n",
    "`[1, 9, 35, 12, 13, 21, 10]`\n",
    "*Output 1:*\n",
    "`[35, 10, 1, 21, 12, 13, 9]`*"
   ]
  },
  {
   "cell_type": "code",
   "execution_count": 3,
   "metadata": {},
   "outputs": [
    {
     "name": "stdout",
     "output_type": "stream",
     "text": [
      "[35, 10, 1, 21, 12, 13, 9]\n"
     ]
    }
   ],
   "source": [
    "input_list = [1, 9, 35, 12, 13, 21, 10]\n",
    "\n",
    "def func(x):\n",
    "    return x%5\n",
    "# Write your code here\n",
    "print(sorted(input_list, key = func ))\n"
   ]
  }
 ],
 "metadata": {
  "kernelspec": {
   "display_name": "Python 3",
   "language": "python",
   "name": "python3"
  },
  "language_info": {
   "codemirror_mode": {
    "name": "ipython",
    "version": 3
   },
   "file_extension": ".py",
   "mimetype": "text/x-python",
   "name": "python",
   "nbconvert_exporter": "python",
   "pygments_lexer": "ipython3",
   "version": "3.7.6"
  }
 },
 "nbformat": 4,
 "nbformat_minor": 4
}
