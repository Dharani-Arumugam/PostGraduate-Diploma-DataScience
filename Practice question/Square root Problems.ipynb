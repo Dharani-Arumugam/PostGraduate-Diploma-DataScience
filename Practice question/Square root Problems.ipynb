{
 "cells": [
  {
   "cell_type": "markdown",
   "metadata": {},
   "source": [
    "### *Square root Problems*\n",
    "\n",
    "*Question 1 : You will be given a positive integer n, you have to use binary search and find the square root of n.*\n",
    "*Input:\n",
    "A single positive integer n.\n",
    "0<n<=10000*\n",
    "\n",
    "*Output:\n",
    "The square root of n, accurate up to 4 decimal places.*"
   ]
  },
  {
   "cell_type": "code",
   "execution_count": 13,
   "metadata": {},
   "outputs": [
    {
     "name": "stdout",
     "output_type": "stream",
     "text": [
      "2.6458\n"
     ]
    }
   ],
   "source": [
    "n = 7\n",
    "\n",
    "def square_root(n):\n",
    "    l =0 \n",
    "    r = n\n",
    "    while(abs(l-r)>10**-5):\n",
    "        mid = (l+r)/2\n",
    "        if (mid**2 > n):\n",
    "            r = mid\n",
    "        else:\n",
    "            l= mid\n",
    "    return round(mid, 4)\n",
    "\n",
    "print(square_root(n))\n",
    "\n",
    "    "
   ]
  },
  {
   "cell_type": "markdown",
   "metadata": {},
   "source": [
    "*Question 2 : \n",
    "You will be given a positive integer n, you have to use binary search and find the square root of n.*\n",
    "*Input:\n",
    "A single positive integer n.\n",
    "0<n<=10000*\n",
    "\n",
    "*Output:\n",
    "The square root of n, accurate up to 'p' decimal places.*"
   ]
  },
  {
   "cell_type": "code",
   "execution_count": 11,
   "metadata": {},
   "outputs": [
    {
     "name": "stdout",
     "output_type": "stream",
     "text": [
      "31.62278\n"
     ]
    }
   ],
   "source": [
    "n = 1000\n",
    "p =5\n",
    "def square_root_precision(n, p):\n",
    "    l = 0\n",
    "    r = n\n",
    "    while(abs(l-r) > 10**-(p+1)):\n",
    "        mid = (l+r)/2 \n",
    "        if mid**2 > n:\n",
    "            r = mid \n",
    "        else:\n",
    "            l= mid \n",
    "    return round(mid, p)\n",
    "output = '%.'+str(p)+\"f\"\n",
    "print(output % square_root_precision(n, p))"
   ]
  },
  {
   "cell_type": "markdown",
   "metadata": {},
   "source": [
    "*Question 3 : \n",
    "You will be given a positive integer n, you have to use binary search and find the `x` root of n.*\n",
    "*Input:\n",
    "A single positive integer n.\n",
    "0<n<=10000*\n",
    "\n",
    "*Output:\n",
    "The square root of n, accurate up to 'p' decimal places.*"
   ]
  },
  {
   "cell_type": "code",
   "execution_count": 12,
   "metadata": {},
   "outputs": [
    {
     "name": "stdout",
     "output_type": "stream",
     "text": [
      "7.0000\n"
     ]
    }
   ],
   "source": [
    "n = 343\n",
    "p = 4\n",
    "root = 3 #to find the cubical root\n",
    "\n",
    "def find_n_root(n,p, root):\n",
    "    l = 0\n",
    "    r = n\n",
    "    while(abs(l-r)> 10**-(p+1)):\n",
    "        mid = (l+r)/2\n",
    "        if mid**3 > n:\n",
    "            r = mid\n",
    "        else:\n",
    "            l= mid\n",
    "    return round(mid,p)\n",
    "op = '%.'+str(p)+\"f\"\n",
    "print(op % find_n_root(n, p,root))"
   ]
  }
 ],
 "metadata": {
  "kernelspec": {
   "display_name": "Python 3",
   "language": "python",
   "name": "python3"
  },
  "language_info": {
   "codemirror_mode": {
    "name": "ipython",
    "version": 3
   },
   "file_extension": ".py",
   "mimetype": "text/x-python",
   "name": "python",
   "nbconvert_exporter": "python",
   "pygments_lexer": "ipython3",
   "version": "3.7.6"
  }
 },
 "nbformat": 4,
 "nbformat_minor": 4
}
