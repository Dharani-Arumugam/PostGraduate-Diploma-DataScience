{
 "cells": [
  {
   "cell_type": "markdown",
   "metadata": {},
   "source": [
    "## *Alphabet Diamond Problem*\n",
    "*Given a positive integer 'n' less than or equal to 26, print the below pattern*\n",
    " \n",
    "*Sample Input: 5 *\n",
    " "
   ]
  },
  {
   "cell_type": "markdown",
   "metadata": {},
   "source": [
    "*Sample Output :*\n",
    "--------e-------- \n",
    "------e-d-e------ \n",
    "----e-d-c-d-e---- \n",
    "--e-d-c-b-c-d-e-- \n",
    "e-d-c-b-a-b-c-d-e \n",
    "--e-d-c-b-c-d-e-- \n",
    "----e-d-c-d-e---- \n",
    "------e-d-e------ \n",
    "--------e-------- "
   ]
  },
  {
   "cell_type": "code",
   "execution_count": 16,
   "metadata": {},
   "outputs": [
    {
     "name": "stdout",
     "output_type": "stream",
     "text": [
      "------------g------------\n",
      "----------g-f-g----------\n",
      "--------g-f-e-f-g--------\n",
      "------g-f-e-d-e-f-g------\n",
      "----g-f-e-d-c-d-e-f-g----\n",
      "--g-f-e-d-c-b-c-d-e-f-g--\n",
      "g-f-e-d-c-b-a-b-c-d-e-f-g\n",
      "--g-f-e-d-c-b-c-d-e-f-g--\n",
      "----g-f-e-d-c-d-e-f-g----\n",
      "------g-f-e-d-e-f-g------\n",
      "--------g-f-e-f-g--------\n",
      "----------g-f-g----------\n",
      "------------g------------\n"
     ]
    }
   ],
   "source": [
    "from string import ascii_lowercase\n",
    "\n",
    "def getStr(letter, i):\n",
    "    if i==0:\n",
    "        return letter\n",
    "    else:\n",
    "        return letter[0:len(letter)//2+1]+'-'+ascii_lowercase[n-i]+'-'+letter[len(letter)//2:]\n",
    "\n",
    "def gettrim(letter, i):\n",
    "    if(i==n):\n",
    "        newletter = letter[0:(len(letter)//2)-1]+letter[len(letter)//2+4:]\n",
    "    else:\n",
    "        newletter = letter[0:(len(letter)//2)]+letter[len(letter)//2+4:]\n",
    "    return newletter\n",
    "\n",
    "n = 7\n",
    "n = n-1\n",
    "firstletter = ascii_lowercase[n]\n",
    "for i in range(0, n+1):\n",
    "    firstletter = getStr(firstletter, i)\n",
    "    print((\"--\"*(n-i))+(firstletter)+\"--\"*(n-i))\n",
    "\n",
    "lastletter = firstletter\n",
    "\n",
    "for i in range(1,n+1):\n",
    "    lastletter = gettrim(lastletter, i)\n",
    "    if(i==n):\n",
    "        print((\"--\"*(i))+ (lastletter)+\"--\"*(i))\n",
    "    else:\n",
    "        print((\"--\"*(i))+ (lastletter)+\"--\"*(i))"
   ]
  },
  {
   "cell_type": "markdown",
   "metadata": {},
   "source": [
    "### *Second pattern Printing- Alphabet Diamond Problem*"
   ]
  },
  {
   "cell_type": "code",
   "execution_count": 17,
   "metadata": {},
   "outputs": [
    {
     "name": "stdout",
     "output_type": "stream",
     "text": [
      "--------e--------\n",
      "------d-e-d------\n",
      "----c-d-e-d-c----\n",
      "--b-c-d-e-d-c-b--\n",
      "a-b-c-d-e-d-c-b-a\n",
      "--b-c-d-e-d-c-b--\n",
      "----c-d-e-d-c----\n",
      "------d-e-d------\n",
      "--------e--------\n"
     ]
    }
   ],
   "source": [
    "from string import ascii_lowercase\n",
    "def getStr(letter, i):\n",
    "    if i ==0:\n",
    "        return letter;\n",
    "    return ascii_lowercase[n-i]+'-'+letter+'-'+ascii_lowercase[n-i]\n",
    "def gettrim(letter, i):\n",
    "    newletter = letter[2:-2]\n",
    "    return newletter\n",
    "\n",
    "n = 5\n",
    "n = n-1\n",
    "firstletter = ascii_lowercase[n]\n",
    "for i in range(0, n+1):\n",
    "    firstletter = getStr(firstletter, i)\n",
    "    print((\"--\"*(n-i))+(firstletter)+\"--\"*(n-i))\n",
    "\n",
    "lastletter = firstletter\n",
    "\n",
    "for i in range(1,n+1):\n",
    "    lastletter = gettrim(lastletter, i)\n",
    "    print((\"--\"*(i))+ (lastletter)+\"--\"*(i))"
   ]
  }
 ],
 "metadata": {
  "kernelspec": {
   "display_name": "Python 3",
   "language": "python",
   "name": "python3"
  },
  "language_info": {
   "codemirror_mode": {
    "name": "ipython",
    "version": 3
   },
   "file_extension": ".py",
   "mimetype": "text/x-python",
   "name": "python",
   "nbconvert_exporter": "python",
   "pygments_lexer": "ipython3",
   "version": "3.7.6"
  }
 },
 "nbformat": 4,
 "nbformat_minor": 4
}
