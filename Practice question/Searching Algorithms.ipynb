{
 "cells": [
  {
   "cell_type": "markdown",
   "metadata": {},
   "source": [
    "## *Searching Algorithms*"
   ]
  },
  {
   "cell_type": "markdown",
   "metadata": {},
   "source": [
    "### *Linear Search*\n",
    "*Searching a particular data entry from a big chunk a task you will encounter frequently.  In this question, you will be given a list of integers and a key element that you will have to find in the list. You will return the index or location of the key in the list or -1 if it is not present.*"
   ]
  },
  {
   "cell_type": "code",
   "execution_count": 2,
   "metadata": {},
   "outputs": [
    {
     "name": "stdout",
     "output_type": "stream",
     "text": [
      "4\n"
     ]
    }
   ],
   "source": [
    "#take input here\n",
    "data_list= [1, 2, 3, 4, 5, 6]\n",
    "key= 5\n",
    "\n",
    "index = -1\n",
    "#find the index of the key in data_list here\n",
    "for i in range(len(data_list)):\n",
    "    if data_list[i] == key:\n",
    "        index = i \n",
    "        break\n",
    "print(index)"
   ]
  },
  {
   "cell_type": "markdown",
   "metadata": {},
   "source": [
    "*The Time Complexity of a linear search algorithm is `O(n)`, since the worst case scenario of the problem is if the list has 'n' elements and the key is found in nth element*"
   ]
  },
  {
   "cell_type": "markdown",
   "metadata": {},
   "source": [
    "### *Binary Search*\n",
    "*It is a much faster approach to search a data*\n",
    "*Input:\n",
    "Two lines of input will be provided. The first line will have a sorted list with no repeated values, while the second line will have a key whose occurrence you have to find in the list.*\n",
    "\n",
    "*Output:\n",
    "Index of the key in the given list if it is present, else -1.*"
   ]
  },
  {
   "cell_type": "code",
   "execution_count": 3,
   "metadata": {},
   "outputs": [
    {
     "name": "stdout",
     "output_type": "stream",
     "text": [
      "-1\n"
     ]
    }
   ],
   "source": [
    "#take input here\n",
    "sorted_list= [3, 5, 7, 9, 11, 13, 15, 17, 19, 21, 23, 25, 27]\n",
    "key=  1\n",
    "\n",
    "#find the index of key in list\n",
    "def binary_search(sorted_list, key):\n",
    "    l = 0\n",
    "    r = len(sorted_list) -1\n",
    "    while (l<=r):\n",
    "        mid = (l+r)//2\n",
    "        if sorted_list[mid] == key:\n",
    "            return mid\n",
    "        elif key > sorted_list[mid]:\n",
    "            l = mid + 1\n",
    "        else:\n",
    "            r = mid -1 \n",
    "    return -1 \n",
    "\n",
    "print(binary_search(sorted_list,key))"
   ]
  },
  {
   "cell_type": "markdown",
   "metadata": {},
   "source": [
    "*The Time Complexity of a binary search algorithm is `O(logn)`, since the worst case scenario of the problem is if the list has 'n' elements and the elements it has to search reduces by n/2 everytime*"
   ]
  },
  {
   "cell_type": "markdown",
   "metadata": {},
   "source": [
    "### *Rotated List*\n",
    "*To make the question a little more difficult, the sorted list with no repeated values is first 'rotated' and then passed as input. Everything else remains the same.*\n",
    "*Rotation of list is done by first selecting the pivot around which the list is then rotated. For eg- the sorted list is [10, 20, 30, 40, 50, 60, 70] and the pivot of rotation is index 2 (that is value 30) then the rotated list will look like [40, 50, 60, 70, 10, 20, 30]*"
   ]
  },
  {
   "cell_type": "code",
   "execution_count": 1,
   "metadata": {},
   "outputs": [
    {
     "name": "stdout",
     "output_type": "stream",
     "text": [
      "5\n"
     ]
    }
   ],
   "source": [
    "\n",
    "data   = [15, 16, 17, 18, 11, 12, 13, 14]\n",
    "key    = 12\n",
    "\n",
    "#find key in rotated list \n",
    "def rotated_array(data, key):\n",
    "    l =0\n",
    "    r = len(data) -1\n",
    "    while(l<=r):\n",
    "        mid = (l+r)//2 \n",
    "        if(data[mid]== key):\n",
    "            return mid \n",
    "        elif data[l]<= data[mid]:\n",
    "            if key>=data[l] and key < data[mid]:\n",
    "                r = mid-1 \n",
    "            else:\n",
    "                l= mid+1 \n",
    "        elif data[l] > data[mid]:\n",
    "            if key > data[mid] and key <= data[r]:\n",
    "                l= mid+1 \n",
    "            else:\n",
    "                r = mid-1\n",
    "    return -1\n",
    "print(rotated_array(data,key))"
   ]
  }
 ],
 "metadata": {
  "kernelspec": {
   "display_name": "Python 3",
   "language": "python",
   "name": "python3"
  },
  "language_info": {
   "codemirror_mode": {
    "name": "ipython",
    "version": 3
   },
   "file_extension": ".py",
   "mimetype": "text/x-python",
   "name": "python",
   "nbconvert_exporter": "python",
   "pygments_lexer": "ipython3",
   "version": "3.7.6"
  }
 },
 "nbformat": 4,
 "nbformat_minor": 4
}
