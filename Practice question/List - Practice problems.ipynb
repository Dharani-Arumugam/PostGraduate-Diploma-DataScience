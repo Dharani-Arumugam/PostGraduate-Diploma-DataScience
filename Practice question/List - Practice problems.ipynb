{
 "cells": [
  {
   "cell_type": "markdown",
   "metadata": {},
   "source": [
    "### *Question 1 : Lego Stack*"
   ]
  },
  {
   "cell_type": "markdown",
   "metadata": {},
   "source": [
    "*You are given a row of Lego Blocks consisting of n blocks. All the blocks given have a square base whose side length is known. You need to stack the blocks over each other and create a vertical tower. Block-1 can go over Block-2 only if sideLength(Block-2)=>sideLength(Block-1).*\n",
    "\n",
    "*From the row of Lego blocks, you can only pick up either the leftmost or rightmost block.*\n",
    "*Print \"Possible\" if it is possible to stack all n cubes this way or else print \"Impossible\".*"
   ]
  },
  {
   "cell_type": "code",
   "execution_count": 1,
   "metadata": {},
   "outputs": [
    {
     "name": "stdout",
     "output_type": "stream",
     "text": [
      "Possible\n"
     ]
    }
   ],
   "source": [
    "import ast,sys\n",
    "sides     = [5,4,2,1,4,5]\n",
    "\n",
    "# find the base\n",
    "base = max(sides[0], sides[-1])\n",
    "\n",
    "for i in range(len(sides)):\n",
    "    if base >= max(sides[0], sides[-1]):\n",
    "        if max(sides[0], sides[-1]) == sides[0]:\n",
    "            base = sides[0]\n",
    "            sides.pop(0)\n",
    "        else:\n",
    "            base = sides[-1]\n",
    "            sides.pop(-1)\n",
    "        \n",
    "if len(sides) == 0:\n",
    "    print('Possible')\n",
    "else:\n",
    "    print('Impossible')"
   ]
  },
  {
   "cell_type": "markdown",
   "metadata": {},
   "source": [
    "### *Question 2 : Pascal triangle*"
   ]
  },
  {
   "cell_type": "markdown",
   "metadata": {},
   "source": [
    "*The input will contain an integer n.*\n",
    "*The output will contain 1 line of the list of numbers representing the nth row of Pascal's triangle.*\n"
   ]
  },
  {
   "cell_type": "code",
   "execution_count": 4,
   "metadata": {},
   "outputs": [
    {
     "name": "stdout",
     "output_type": "stream",
     "text": [
      "[1, 5, 10, 10, 5, 1]\n"
     ]
    }
   ],
   "source": [
    "#input has been taken for you\n",
    "n = 6\n",
    "import functools\n",
    "def factorial(n):\n",
    "    if n == 0:\n",
    "        return 1\n",
    "    else:\n",
    "        return functools.reduce(lambda x,y: x*y, range(1,n+1))\n",
    "\n",
    "a=[]\n",
    "for i in range(n):\n",
    "    a.append(1)\n",
    "for j in range(1, n-1):\n",
    "    a[j]= int(factorial(i)/(factorial(j)*factorial(i-j)))\n",
    "\n",
    "\n",
    "print(a)"
   ]
  }
 ],
 "metadata": {
  "kernelspec": {
   "display_name": "Python 3",
   "language": "python",
   "name": "python3"
  },
  "language_info": {
   "codemirror_mode": {
    "name": "ipython",
    "version": 3
   },
   "file_extension": ".py",
   "mimetype": "text/x-python",
   "name": "python",
   "nbconvert_exporter": "python",
   "pygments_lexer": "ipython3",
   "version": "3.7.6"
  }
 },
 "nbformat": 4,
 "nbformat_minor": 4
}
