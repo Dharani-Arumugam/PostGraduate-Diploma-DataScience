{
 "cells": [
  {
   "cell_type": "markdown",
   "metadata": {},
   "source": [
    "### *Two Pointers*"
   ]
  },
  {
   "cell_type": "markdown",
   "metadata": {},
   "source": [
    "### *Merge Sorted Lists*\n",
    "*You are given two sorted lists. You have to merge those such that the output is also sorted. Now, of course, you can merge and then use the sorted function. But that would be doing it in O(nlog(n)) Time and wheres the fun in that. Let's see if you can do it in O(n).*"
   ]
  },
  {
   "cell_type": "code",
   "execution_count": 2,
   "metadata": {},
   "outputs": [
    {
     "name": "stdout",
     "output_type": "stream",
     "text": [
      "[1, 2, 3, 3, 4, 5, 5, 6, 7, 8, 9, 10, 11, 12, 13]\n"
     ]
    }
   ],
   "source": [
    "list_1 = [1, 3, 5, 7, 9, 10]\n",
    "list_2 = [2, 3, 4, 5, 6, 8, 11, 12, 13]\n",
    "\n",
    "l1 = len(list_1) \n",
    "l2 = len(list_2)\n",
    "#write code to find merged list\n",
    "result_list = []\n",
    "i =0\n",
    "j =0\n",
    "while i<l1 and j < l2:\n",
    "    if list_1[i] <=  list_2[j] :\n",
    "        result_list.append(list_1[i])\n",
    "        i = i+1 \n",
    "    else:\n",
    "        result_list.append(list_2[j])\n",
    "        j = j+1 \n",
    "\n",
    "result_list = result_list + list_1[i:]+ list_2[j:]\n",
    "print(result_list)"
   ]
  },
  {
   "cell_type": "markdown",
   "metadata": {},
   "source": [
    "### *Specific sum*\n",
    "*Lets now raise the bar higher with this problem and drive home how amazing having more than one iterators can be.\n",
    "You will be given a list and an integer k, you have to find two numbers from the list that add up to k*\n"
   ]
  },
  {
   "cell_type": "code",
   "execution_count": 4,
   "metadata": {},
   "outputs": [
    {
     "name": "stdout",
     "output_type": "stream",
     "text": [
      "7 17\n"
     ]
    }
   ],
   "source": [
    "mylist = [2, 6, 7, 10, 16, 17, 19]\n",
    "key    = 24\n",
    "#write your code here\n",
    "\n",
    "def specific_sum(mylist, key):\n",
    "    i = 0\n",
    "    j = len(mylist)-1\n",
    "    while(i!= j):\n",
    "        if mylist[i] + mylist[j] == key:\n",
    "            return mylist[i], mylist[j]\n",
    "        elif mylist[i] + mylist[j] < key:\n",
    "            i = i+1 \n",
    "        else:\n",
    "            j = j-1 \n",
    "a, b = specific_sum(mylist, key)\n",
    "print(a, b)"
   ]
  },
  {
   "cell_type": "markdown",
   "metadata": {},
   "source": [
    "### *Sort a vector of 0s, 1s, and 2s*\n",
    "\n",
    "*Write a code to sort a listof 0s, 1s, and 2s. Note that the time complexity should be O(n). \n",
    "Note: Do not use the built-in sorted() function.*\n",
    "\n",
    "*Example:\n",
    "Input 1:\n",
    "[0, 2, 0, 0, 1, 1, 2, 0, 1]\n",
    "Output 1:\n",
    "[0, 0, 0, 0, 1, 1, 1, 2, 2]*\n"
   ]
  },
  {
   "cell_type": "code",
   "execution_count": 5,
   "metadata": {},
   "outputs": [
    {
     "name": "stdout",
     "output_type": "stream",
     "text": [
      "[0, 0, 0, 0, 1, 1, 1, 2, 2]\n"
     ]
    }
   ],
   "source": [
    "\n",
    "input_list = [0, 2, 0, 0, 1, 1, 2, 0, 1]\n",
    "\n",
    "# Write your code here \n",
    "def sort_list(data):\n",
    "    l = 0\n",
    "    r = len(data) - 1\n",
    "    mid = 0 \n",
    "    while(mid<= r):\n",
    "        if data[mid] == 0:\n",
    "            data[l], data[mid] = data[mid], data[l]\n",
    "            l   = l+1\n",
    "            mid = mid+1 \n",
    "        elif data[mid] == 1:\n",
    "            mid = mid+1 \n",
    "        else:\n",
    "             data[mid], data[r] = data[r], data[mid]  \n",
    "             r = r - 1 \n",
    "    return data\n",
    "\n",
    "print(sort_list(input_list)) \n"
   ]
  },
  {
   "cell_type": "markdown",
   "metadata": {},
   "source": [
    "### *Diff K*\n",
    "\n",
    "*You have done the specific sum problem. Now it's time for a similar albeit slightly modified version of the same - Diff K.*\n",
    "\n",
    "*Given a list 'L' of sorted integers and another non-negative integer k, find if there exist 2 indices i and j such that L[i] - L[j] = k, i != j.*\n"
   ]
  },
  {
   "cell_type": "code",
   "execution_count": 6,
   "metadata": {},
   "outputs": [
    {
     "name": "stdout",
     "output_type": "stream",
     "text": [
      "No\n"
     ]
    }
   ],
   "source": [
    "L = [1, 3, 5, 6, 10]\n",
    "k = 8\n",
    "\n",
    "# Write your code here\n",
    "def diff_k(L,k):\n",
    "    i =0\n",
    "    j = len(L) -1 \n",
    "    while(i<j):\n",
    "        if L[j]-L[i] == k:\n",
    "            return True\n",
    "        elif L[j]-L[i]>k:\n",
    "            j = j-1 \n",
    "        else:\n",
    "            i = i+1 \n",
    "\n",
    "if(diff_k(L,k)):\n",
    "    print('Yes')\n",
    "else:\n",
    "    print('No')"
   ]
  },
  {
   "cell_type": "markdown",
   "metadata": {},
   "source": [
    "### *Intersection of Sorted Arrays*\n",
    "\n",
    "*Find the intersection of two sorted lists, i.e., find the elements that occur in both.*"
   ]
  },
  {
   "cell_type": "code",
   "execution_count": 7,
   "metadata": {},
   "outputs": [
    {
     "name": "stdout",
     "output_type": "stream",
     "text": [
      "[3, 9]\n"
     ]
    }
   ],
   "source": [
    "input_lists = [[1, 2, 3, 5, 9], [3, 6, 9, 12]]\n",
    "L1 = input_lists[0]\n",
    "L2 = input_lists[1]\n",
    "\n",
    "# Write your code here \n",
    "len1 = len(L1) \n",
    "len2 = len(L2) \n",
    "result = []\n",
    "i = 0\n",
    "j = 0\n",
    "while(i<len1 and j < len2):\n",
    "    if L1[i] == L2[j]:\n",
    "        result.append(L1[i])\n",
    "        j= j+1 \n",
    "        i = i+1\n",
    "    elif L1[i]< L2[j]:\n",
    "        i = i+1 \n",
    "    else:\n",
    "        j = j+1 \n",
    "\n",
    "print(result)"
   ]
  }
 ],
 "metadata": {
  "kernelspec": {
   "display_name": "Python 3",
   "language": "python",
   "name": "python3"
  },
  "language_info": {
   "codemirror_mode": {
    "name": "ipython",
    "version": 3
   },
   "file_extension": ".py",
   "mimetype": "text/x-python",
   "name": "python",
   "nbconvert_exporter": "python",
   "pygments_lexer": "ipython3",
   "version": "3.7.6"
  }
 },
 "nbformat": 4,
 "nbformat_minor": 4
}
