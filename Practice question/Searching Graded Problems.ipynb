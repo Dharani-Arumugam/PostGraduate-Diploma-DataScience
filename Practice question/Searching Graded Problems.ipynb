{
 "cells": [
  {
   "cell_type": "markdown",
   "metadata": {},
   "source": [
    "### *Graded Question - Arithematic Progression*\n",
    "*In mathematics, an arithmetic progression (AP) or arithmetic sequence is a sequence of numbers such that the difference between the consecutive terms is constant. The difference here means the second minus the first. For instance, sequence 5, 7, 9, 11, 13, 15, . . . is an arithmetic progression with common difference of 2.\n",
    "Given any three terms of some random Arithematic progression and an integer key, you have to determine if the key will be present in the Arithematic sequence or no. check out sample input/output for more clarification.*\n",
    "*Input:*\n",
    "*The first line will contain three comma-separated integers representing three consecutive of some Arithmetic Progression\n",
    "The second line will have the integer key*\n",
    "\n",
    "*Output:\n",
    "True if the key is a part of that AP, False otherwise*"
   ]
  },
  {
   "cell_type": "code",
   "execution_count": 9,
   "metadata": {},
   "outputs": [
    {
     "name": "stdout",
     "output_type": "stream",
     "text": [
      "True\n"
     ]
    }
   ],
   "source": [
    "\n",
    "inp = [9,11,13]\n",
    "key = 19\n",
    "\n",
    "diff = inp[1]- inp[0]  \n",
    "if(key%diff == inp[0]%diff):\n",
    "    print( True )\n",
    "else:\n",
    "    print( False)"
   ]
  },
  {
   "cell_type": "markdown",
   "metadata": {},
   "source": [
    "### *Ternary Search*\n",
    "*In the binary search, you kept reducing the search space into half of the previous search space. In this question, can you similarly reduce the search space in one-third of the last space search and write a searching algorithm?*\n",
    "\n",
    "*Input:\n",
    "A non-empty sorted list of unique integers in line one\n",
    "The integer key to be found in line two*\n",
    "\n",
    "*Output:\n",
    "Index of the element key if it is present in the list, else -1*"
   ]
  },
  {
   "cell_type": "code",
   "execution_count": 1,
   "metadata": {},
   "outputs": [
    {
     "name": "stdout",
     "output_type": "stream",
     "text": [
      "-1\n"
     ]
    }
   ],
   "source": [
    "data = [3, 10, 14, 15, 20, 24, 25, 29, 30, 33, 34, 36, 37, 40, 43, 47, 51, 54, 63, 64, 65, 67, 70, 74, 81, 82, 93]\n",
    "key  = 77\n",
    "def ternary_search(data, key):\n",
    "    l = 0\n",
    "    r = len(data)-1\n",
    "    while(l<=r):\n",
    "        mid1 = l + (r-l)//3\n",
    "        mid2 = r - (r-l)//3\n",
    "        if(key == data[mid1]):\n",
    "            return mid1\n",
    "        elif(key == data[mid2]):\n",
    "            return mid2 \n",
    "        \n",
    "        if key < data[mid1]:\n",
    "            r = mid1-1 \n",
    "        elif key > data[mid2]:\n",
    "            l = mid2 +1\n",
    "        else:\n",
    "            l = mid1 +1\n",
    "            r = mid2 -1 \n",
    "    return -1 \n",
    "\n",
    "print(ternary_search(data, key))\n",
    "        "
   ]
  },
  {
   "cell_type": "markdown",
   "metadata": {},
   "source": [
    "### *Finding Root*\n",
    "*When finding out square root, you indirectly solved the problem x2=num for x. You can use the same technique to find roots of other complex functions as well. In this problem, you are asked to solve the equation nx+x=0, where n will be a positive input integer.\n",
    "You are to find a solution accurate up to 6 decimal places.*\n",
    "\n",
    "*Input:\n",
    "Positive integer n\n",
    "1<= n <= 1000*\n",
    "\n",
    "*Output:\n",
    "value of x that satisfies the given equation accurate upto 6 decimal places*"
   ]
  },
  {
   "cell_type": "code",
   "execution_count": 6,
   "metadata": {},
   "outputs": [
    {
     "name": "stdout",
     "output_type": "stream",
     "text": [
      "-1.000000\n"
     ]
    }
   ],
   "source": [
    "n = 1\n",
    "\n",
    "l = -n\n",
    "r = 0\n",
    "while(abs(l-r)>10**-7):\n",
    "    mid =(l+r)/2 \n",
    "    if mid > -n**mid:\n",
    "        r = mid \n",
    "    else:\n",
    "        l = mid \n",
    "print('%0.6f'% round(mid,6))"
   ]
  },
  {
   "cell_type": "markdown",
   "metadata": {},
   "source": [
    "### *Search in Valley*\n",
    "*This is another searching problem. The list given will have a valley trend. The valley_list is created by the following steps. A sorted list is randomly divided in two parts, not necessarily equal. The left part is then reversed and put back in place.\n",
    "sorted_list:` [1, 2, 3, 4, 6, 7, 8, 11, 13, 14, 15, 16, 17]` valley_list will be obtained by dividing this list at 13 and reversing the left half making it `[13, 11, 8, 7, 6, 4, 3, 2, 1, 14, 15, 16, 17]`. Find the index of the given integer key in the given valley_list.*\n",
    "\n",
    "*Input:*\n",
    "\n",
    "*first-line will contain the valley_list and the second line will contain the element key whose index you have to find in the valley_list. No repetition of elements in the valley_list.*\n",
    "\n",
    "*Output:*\n",
    "\n",
    "*If key is present in the valley_list, print out its index.If key is not present in the valley_list print -1*"
   ]
  },
  {
   "cell_type": "code",
   "execution_count": 8,
   "metadata": {},
   "outputs": [
    {
     "name": "stdout",
     "output_type": "stream",
     "text": [
      "-1\n"
     ]
    }
   ],
   "source": [
    "data = [13, 11, 8, 7, 6, 4, 3, 2, 1, 14, 15, 16, 17]\n",
    "\n",
    "key  = 32\n",
    "\n",
    "def valley_search(data, key):\n",
    "    l = 0\n",
    "    r = len(data) -1 \n",
    "    while(l<=r):\n",
    "        mid = (l+r)//2 \n",
    "        if data[mid] == key:\n",
    "            return mid\n",
    "        elif data[l] >= data [mid]:\n",
    "            if key <= data[l] and key > data[mid]:\n",
    "                r = mid -1\n",
    "            else:\n",
    "                l = mid+1 \n",
    "        else:\n",
    "            if key >= data[mid]:\n",
    "                l = mid+1 \n",
    "            else:\n",
    "                r = mid -1 \n",
    "    return -1 \n",
    "\n",
    "print(valley_search(data, key))"
   ]
  }
 ],
 "metadata": {
  "kernelspec": {
   "display_name": "Python 3",
   "language": "python",
   "name": "python3"
  },
  "language_info": {
   "codemirror_mode": {
    "name": "ipython",
    "version": 3
   },
   "file_extension": ".py",
   "mimetype": "text/x-python",
   "name": "python",
   "nbconvert_exporter": "python",
   "pygments_lexer": "ipython3",
   "version": "3.7.6"
  }
 },
 "nbformat": 4,
 "nbformat_minor": 4
}
