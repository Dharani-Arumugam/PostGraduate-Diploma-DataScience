{
 "cells": [
  {
   "cell_type": "markdown",
   "metadata": {},
   "source": [
    "### Graded Questions - Data Toolkit - Programming using Python - I\n",
    "*This section contains all the Graded question answers as part of Programming using Python modules*"
   ]
  },
  {
   "cell_type": "markdown",
   "metadata": {},
   "source": [
    "**_Question 1._**\n",
    "\n",
    "*Any number, say n is called an Armstrong number if it is equal to the sum of its digits, where each is raised to the power of number of digits in n.\n",
    "For example:*\n",
    "_153=13+53+33_\n",
    "\n",
    "*Write Python code to determine whether an entered three digit number is an Armstrong number or not*"
   ]
  },
  {
   "cell_type": "code",
   "execution_count": 22,
   "metadata": {},
   "outputs": [
    {
     "name": "stdout",
     "output_type": "stream",
     "text": [
      "True\n"
     ]
    }
   ],
   "source": [
    "n=153\n",
    "\n",
    "def armstrong(n):\n",
    "    total =0\n",
    "    temp_num = n;\n",
    "    while(temp_num > 0):\n",
    "        units = temp_num%10\n",
    "        total = total + units**3\n",
    "        temp_num = temp_num // 10\n",
    "    \n",
    "    if(total == n):\n",
    "        return True\n",
    "    else:\n",
    "        return False\n",
    "print(armstrong(n))"
   ]
  },
  {
   "cell_type": "markdown",
   "metadata": {},
   "source": [
    "**_Question 2._**\n",
    "\n",
    "*Compute and display Fibonacci series upto n terms where n is a positive integer entered by the user.*"
   ]
  },
  {
   "cell_type": "code",
   "execution_count": 10,
   "metadata": {},
   "outputs": [
    {
     "name": "stdout",
     "output_type": "stream",
     "text": [
      "0  1  1  2  3  5  8  13  "
     ]
    }
   ],
   "source": [
    "n=8\n",
    "#write your code here\n",
    "def fibonacci(n):\n",
    "    num1 = 0\n",
    "    num2 = 1 \n",
    "    for i in range(0, n):\n",
    "        if(i== 0):\n",
    "            print(0, ' ', end = '')\n",
    "        elif(i==1):\n",
    "            print(1, ' ', end = '')\n",
    "        else:\n",
    "            total = num1 + num2\n",
    "            num1  = num2\n",
    "            num2  = total\n",
    "            print(total,' ', end = '')\n",
    "    \n",
    "fibonacci(n)"
   ]
  },
  {
   "cell_type": "markdown",
   "metadata": {},
   "source": [
    "**_Question 3._**\n",
    "\n",
    "*Write python code to find the sum of prime numbers from 2 to n where n is a positive integer entered by the user.*"
   ]
  },
  {
   "cell_type": "code",
   "execution_count": 18,
   "metadata": {},
   "outputs": [
    {
     "name": "stdout",
     "output_type": "stream",
     "text": [
      "10\n"
     ]
    }
   ],
   "source": [
    "import math\n",
    "\n",
    "n = 5\n",
    "#using lambda functions and list comprehension\n",
    "is_prime = lambda x : all(x % y != 0 for y in range(2, int(math.sqrt(x))+1))\n",
    "\n",
    "primes  = [x for x in range(2, n+1) if is_prime(x) == True]\n",
    "\n",
    "print(sum(primes))"
   ]
  },
  {
   "cell_type": "markdown",
   "metadata": {},
   "source": [
    "**_Question 4._**\n",
    "\n",
    "*Sanjay has m rupees, each chocolate costs c rupees, shopkeeper will give away k chocolates for w wrappers. Can you find now how many chocolates Sanjay will be able to eat?*"
   ]
  },
  {
   "cell_type": "code",
   "execution_count": 21,
   "metadata": {},
   "outputs": [
    {
     "name": "stdout",
     "output_type": "stream",
     "text": [
      "17\n"
     ]
    }
   ],
   "source": [
    "#Passing the input as m,c,w, k\n",
    "inp = '15,2,3,2'\n",
    "mylist = inp.split(',')\n",
    "m = int(mylist[0])\n",
    "c = int(mylist[1])\n",
    "w = int(mylist[2])\n",
    "k = int(mylist[3])\n",
    "noofchoc = m//c\n",
    "noofwr   = m//c\n",
    "while(noofwr//w != 0):\n",
    "    noofchoc = noofchoc + (noofwr//w)*k\n",
    "    noofwr    = (noofwr//w)*k + noofwr%w\n",
    "print(noofchoc)"
   ]
  },
  {
   "cell_type": "code",
   "execution_count": null,
   "metadata": {},
   "outputs": [],
   "source": []
  }
 ],
 "metadata": {
  "kernelspec": {
   "display_name": "Python 3",
   "language": "python",
   "name": "python3"
  },
  "language_info": {
   "codemirror_mode": {
    "name": "ipython",
    "version": 3
   },
   "file_extension": ".py",
   "mimetype": "text/x-python",
   "name": "python",
   "nbconvert_exporter": "python",
   "pygments_lexer": "ipython3",
   "version": "3.7.6"
  }
 },
 "nbformat": 4,
 "nbformat_minor": 4
}
