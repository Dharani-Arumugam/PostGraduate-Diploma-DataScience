{
 "cells": [
  {
   "cell_type": "markdown",
   "metadata": {},
   "source": [
    "### *Question 1 : Cheapest Item*\n",
    "\n",
    "*You will be given a dictionary with keys as items and values as their prices. You have to print the cheapest item*"
   ]
  },
  {
   "cell_type": "code",
   "execution_count": 3,
   "metadata": {},
   "outputs": [
    {
     "name": "stdout",
     "output_type": "stream",
     "text": [
      "file: 50\n"
     ]
    }
   ],
   "source": [
    "\n",
    "inp = {'laptop': 30000, 'file': 50}\n",
    "#start writing your code here\n",
    "\n",
    "k = list(inp.keys())  # list of keys\n",
    "v = list(inp.values())  # list of values\n",
    "\n",
    "m = min(v) # minimum value in the list of all values\n",
    "i = v.index(m) # index of the minimum value in list of values\n",
    "f = str(k[i])+\": \"+str(v[i])  # fetch the same index from the list of keys and join this way\n",
    "print(f)"
   ]
  },
  {
   "cell_type": "markdown",
   "metadata": {},
   "source": [
    "### *Question 2 : Maximum Distance*\n",
    "*You will be given a list of repeated elements. You have to find the maximum distance between two same elements. The answer will be zero if there are no repeated elements.*"
   ]
  },
  {
   "cell_type": "code",
   "execution_count": 4,
   "metadata": {},
   "outputs": [
    {
     "name": "stdout",
     "output_type": "stream",
     "text": [
      "10\n"
     ]
    }
   ],
   "source": [
    "input_list= [3, 2, 1, 2, 1, 4, 5, 8, 6, 7, 4, 2]\n",
    "\n",
    "#start writing your code from here\n",
    "def maxdistance(input_list):\n",
    "    mp = {} \n",
    "    maxDict = 0 \n",
    "    for i in range(len(input_list)):\n",
    "        if input_list[i] not in mp.keys():\n",
    "            mp[input_list[i]] = i \n",
    "        else :\n",
    "            maxDict = max(maxDict, i-mp[input_list[i]])\n",
    "    return maxDict \n",
    "print(maxdistance(input_list))"
   ]
  },
  {
   "cell_type": "markdown",
   "metadata": {},
   "source": [
    "### *Question 3 : Vote for Food*\n",
    "*Your team is going for camping and you are taking a vote to decide what food to pack for dinner.Everyone gets a vote and the food item that gets at least one more than half of the votes wins. None of the items wins if nothing gets at least one more than half votes. Assume that every person gets only one vote.\n",
    "The input will contain a list of food items where each occurrence of an item represents one vote. You should print the winning food item as output. If there is no clear winner, print \"NOTA\".*"
   ]
  },
  {
   "cell_type": "code",
   "execution_count": 6,
   "metadata": {},
   "outputs": [
    {
     "name": "stdout",
     "output_type": "stream",
     "text": [
      "NOTA\n"
     ]
    }
   ],
   "source": [
    "import operator\n",
    "votes = [\"pasta\",\"pasta\",\"pasta\",\"paratha\",\"paratha\",\"paratha\"]\n",
    "\n",
    "half = len(votes)//2\n",
    "d ={}\n",
    "\n",
    "for i in votes:\n",
    "    if i in d:\n",
    "        d[i] = d[i]+1\n",
    "    else:\n",
    "        d[i] = 1 \n",
    "sorted_d = sorted(d.items(), key=operator.itemgetter(1), reverse=True)\n",
    "if(sorted_d[0][1] > half):\n",
    "    print(sorted_d[0][0])\n",
    "else:\n",
    "    print('NOTA')"
   ]
  },
  {
   "cell_type": "markdown",
   "metadata": {},
   "source": [
    "### *Question 4  : Flatten a dictionary*\n",
    "*Consider a nested dictionary as follows:*\n",
    "`{'Fruit': 1, 'Vegetable': {'Cabbage': 2, 'Cauliflower': 3}, 'Spices': 4}`\n",
    "\n",
    "*Your task is to flatten a nested dictionary and join the nested keys with the \"_\" character. For the above dictionary, the flattened dictionary would be as follows:*\n",
    "\n",
    "`{'Fruit': 1, 'Vegetable_Cabbage': 2, 'Vegetable_Cauliflower': 3, 'Spices': 4}`"
   ]
  },
  {
   "cell_type": "code",
   "execution_count": 7,
   "metadata": {},
   "outputs": [
    {
     "name": "stdout",
     "output_type": "stream",
     "text": [
      "['Fruit', 'Spices', 'Vegetable_Cabbage', 'Vegetable_Cauliflower']\n",
      "[1, 2, 3, 4]\n"
     ]
    },
    {
     "name": "stderr",
     "output_type": "stream",
     "text": [
      "/home/dharani/anaconda3/lib/python3.7/site-packages/ipykernel_launcher.py:2: DeprecationWarning: Using or importing the ABCs from 'collections' instead of from 'collections.abc' is deprecated since Python 3.3,and in 3.9 it will stop working\n",
      "  \n"
     ]
    }
   ],
   "source": [
    "import ast,sys\n",
    "from  collections import MutableMapping\n",
    "\n",
    "input_dict = {'Fruit': 1, 'Vegetable': {'Cabbage': 2, 'Cauliflower': 3}, 'Spices': 4}\n",
    "def flatten_dict(d, sep='_', prefix=''):\n",
    "    items =[]\n",
    "    for k, v in d.items():\n",
    "        new_key = prefix + sep + k if prefix else k \n",
    "        if isinstance(v, MutableMapping):\n",
    "            items.extend(flatten_dict(v, sep=sep,prefix=new_key).items()) \n",
    "        else:\n",
    "            items.append((new_key, v))\n",
    "    return dict(items) \n",
    "flatten_dict(input_dict)\n",
    "out1=list(flatten_dict(input_dict).keys())\n",
    "out2=list(flatten_dict(input_dict).values())\n",
    "out1.sort()\n",
    "out2.sort()\n",
    "print(out1)\n",
    "print(out2)"
   ]
  }
 ],
 "metadata": {
  "kernelspec": {
   "display_name": "Python 3",
   "language": "python",
   "name": "python3"
  },
  "language_info": {
   "codemirror_mode": {
    "name": "ipython",
    "version": 3
   },
   "file_extension": ".py",
   "mimetype": "text/x-python",
   "name": "python",
   "nbconvert_exporter": "python",
   "pygments_lexer": "ipython3",
   "version": "3.7.6"
  }
 },
 "nbformat": 4,
 "nbformat_minor": 4
}
